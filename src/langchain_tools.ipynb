{
 "cells": [
  {
   "cell_type": "code",
   "execution_count": 1,
   "metadata": {},
   "outputs": [],
   "source": [
    "from dotenv import load_dotenv \n",
    "from langchain_community.tools import DuckDuckGoSearchRun\n",
    "from langchain.tools import tool\n",
    "from langchain_groq import ChatGroq\n",
    "\n",
    "load_dotenv()\n",
    "\n",
    "@tool \n",
    "def weather_check(query:str) -> str:\n",
    "    \"\"\"Return only weather condition based on user's location\"\"\"\n",
    "    return DuckDuckGoSearchRun().invoke(query)\n",
    "\n",
    "model = ChatGroq(model_name=\"llama-3.3-70b-versatile\")\n",
    "\n",
    "tools = [weather_check]\n"
   ]
  },
  {
   "cell_type": "code",
   "execution_count": 4,
   "metadata": {},
   "outputs": [],
   "source": [
    "from langchain.agents import AgentExecutor, create_tool_calling_agent\n",
    "from langchain_core.prompts import ChatPromptTemplate \n",
    "\n",
    "system = \"\"\"\n",
    "Return only a JSON object with key \"thingsYouShouldBring\", whose values are relevant items a traveler should bring when going to a specific location for a specific number of days. Make the list detailed and adapted to the location and length of travel.\"\"\"\n",
    "\n",
    "prompt_template = ChatPromptTemplate.from_messages([\n",
    "    ('system', system),\n",
    "    (\"human\", \"Which things should we bring in order to go to {destination} with {group_type} within {start_day} to {end_day}\"),\n",
    "    (\"placeholder\", \"{agent_scratchpad}\"),\n",
    "])\n",
    "\n",
    "agent = create_tool_calling_agent(model, tools, prompt_template)\n",
    "agent_executor = AgentExecutor(agent = agent , tools = tools, verbose = True)\n"
   ]
  },
  {
   "cell_type": "code",
   "execution_count": 5,
   "metadata": {},
   "outputs": [
    {
     "name": "stdout",
     "output_type": "stream",
     "text": [
      "\n",
      "\n",
      "\u001b[1m> Entering new AgentExecutor chain...\u001b[0m\n",
      "\u001b[32;1m\u001b[1;3m\n",
      "Invoking: `weather_check` with `{'query': 'Yangon'}`\n",
      "\n",
      "\n",
      "\u001b[0m\u001b[36;1m\u001b[1;3mYangon, city, capital of independent Myanmar (Burma) from 1948 to 2006, when the government officially proclaimed the new city of Nay Pyi Taw (Naypyidaw) the capital of the country. Yangon is located in the southern part of the country on the east bank of the Yangon, or Hlaing, River (eastern mouth of the Irrawaddy River), 25 miles (40 km) north of the Gulf of Martaban of the Andaman Sea. Learn from expert advice on how to explore Yangon, Myanmar's largest city, with its diverse culture, cuisine and temples. Find out how to get around, where to stay, what to do and what to avoid in this comprehensive guide. Best Things to Do in Yangon. Visiting Yangon?Spend the day exploring the sacred Botataung Pagoda, admire the impressive Chaukhtatgyi Buddha Temple, or relax by the serene Inya Lake.Stroll through the picturesque Kandawgyi Garden for a nature escape, enjoy shopping and dining in the city, or discover Yangon's rich history and culture. Whether you're into spirituality, outdoor adventures, or ... As Yangon's most iconic landmark and the most sacred monument in the whole country, one of the top things to do in Yangon in 2 days is to pay a visit to the gilded Shwedagon Pagoda. Located on Singuttara Hill, the golden stupa stands at 99 meters (325 feet) and is set among a sprawling complex studded with even more stupas, shrines, and ... Explore Yangon, the biggest city of Myanmar, with this comprehensive guide by a travel blogger. Discover the best things to do, see, eat and experience, from pagodas and markets to street art and tea shops.\u001b[0m\u001b[32;1m\u001b[1;3m\n",
      "Invoking: `weather_check` with `{'query': 'Yangon'}`\n",
      "\n",
      "\n",
      "\u001b[0m\u001b[36;1m\u001b[1;3mYangon, city, capital of independent Myanmar (Burma) from 1948 to 2006, when the government officially proclaimed the new city of Nay Pyi Taw (Naypyidaw) the capital of the country. Yangon is located in the southern part of the country on the east bank of the Yangon, or Hlaing, River (eastern mouth of the Irrawaddy River), 25 miles (40 km) north of the Gulf of Martaban of the Andaman Sea. Learn from expert advice on how to explore Yangon, Myanmar's largest city, with its diverse culture, cuisine and temples. Find out how to get around, where to stay, what to do and what to avoid in this comprehensive guide. Best Things to Do in Yangon. Visiting Yangon?Spend the day exploring the sacred Botataung Pagoda, admire the impressive Chaukhtatgyi Buddha Temple, or relax by the serene Inya Lake.Stroll through the picturesque Kandawgyi Garden for a nature escape, enjoy shopping and dining in the city, or discover Yangon's rich history and culture. Whether you're into spirituality, outdoor adventures, or ... As Yangon's most iconic landmark and the most sacred monument in the whole country, one of the top things to do in Yangon in 2 days is to pay a visit to the gilded Shwedagon Pagoda. Located on Singuttara Hill, the golden stupa stands at 99 meters (325 feet) and is set among a sprawling complex studded with even more stupas, shrines, and ... Explore Yangon, the biggest city of Myanmar, with this comprehensive guide by a travel blogger. Discover the best things to do, see, eat and experience, from pagodas and markets to street art and tea shops.\u001b[0m\u001b[32;1m\u001b[1;3m{\"thingsYouShouldBring\": [\"sunscreen\", \"sunglasses\", \"hat\", \"lightweight and breathable clothing\", \"comfortable shoes\", \"power adapter\", \"camera\", \"reusable water bottle\", \"travel documents (passport, visa, etc.)\", \"medications and prescriptions\", \"insect repellent\", \"first-aid kit\", \"travel-size essentials (toiletries, etc.)\", \"local currency (kyat) and credit cards\", \"snacks and energy bars\", \"guidebook and map\", \"backpack or daypack\", \"umbrella or raincoat\", \"earplugs and eye mask\", \"portable charger\", \"travel pillow and blanket\", \"entertainment for downtime (books, etc.)\"]}\u001b[0m\n",
      "\n",
      "\u001b[1m> Finished chain.\u001b[0m\n"
     ]
    },
    {
     "data": {
      "text/plain": [
       "{'destination': 'Yangon',\n",
       " 'group_type': 'Family',\n",
       " 'start_day': '5/11/2025',\n",
       " 'end_day': '15/11/2025',\n",
       " 'output': '{\"thingsYouShouldBring\": [\"sunscreen\", \"sunglasses\", \"hat\", \"lightweight and breathable clothing\", \"comfortable shoes\", \"power adapter\", \"camera\", \"reusable water bottle\", \"travel documents (passport, visa, etc.)\", \"medications and prescriptions\", \"insect repellent\", \"first-aid kit\", \"travel-size essentials (toiletries, etc.)\", \"local currency (kyat) and credit cards\", \"snacks and energy bars\", \"guidebook and map\", \"backpack or daypack\", \"umbrella or raincoat\", \"earplugs and eye mask\", \"portable charger\", \"travel pillow and blanket\", \"entertainment for downtime (books, etc.)\"]}'}"
      ]
     },
     "execution_count": 5,
     "metadata": {},
     "output_type": "execute_result"
    }
   ],
   "source": [
    "agent_executor.invoke({\"destination\":\"Yangon\", \"group_type\": \"Family\", \"start_day\": \"5/11/2025\", 'end_day': '15/11/2025'})"
   ]
  },
  {
   "cell_type": "code",
   "execution_count": null,
   "metadata": {},
   "outputs": [],
   "source": []
  }
 ],
 "metadata": {
  "kernelspec": {
   "display_name": "langchain",
   "language": "python",
   "name": "python3"
  },
  "language_info": {
   "codemirror_mode": {
    "name": "ipython",
    "version": 3
   },
   "file_extension": ".py",
   "mimetype": "text/x-python",
   "name": "python",
   "nbconvert_exporter": "python",
   "pygments_lexer": "ipython3",
   "version": "3.11.11"
  }
 },
 "nbformat": 4,
 "nbformat_minor": 2
}
